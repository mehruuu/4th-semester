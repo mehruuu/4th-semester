{
 "cells": [
  {
   "cell_type": "code",
   "execution_count": 1,
   "metadata": {},
   "outputs": [
    {
     "name": "stdout",
     "output_type": "stream",
     "text": [
      "Solution Path: [(0, 0), (0, 3), (3, 0), (3, 3), (4, 2)]\n"
     ]
    },
    {
     "data": {
      "text/plain": [
       "[(0, 0), (0, 3), (3, 0), (3, 3), (4, 2)]"
      ]
     },
     "execution_count": 1,
     "metadata": {},
     "output_type": "execute_result"
    }
   ],
   "source": [
    "from collections import deque\n",
    "\n",
    "def is_valid(state, capacities):\n",
    "    return 0 <= state[0] <= capacities[0] and 0 <= state[1] <= capacities[1]\n",
    "\n",
    "def get_successors(state, capacities):\n",
    "    x, y = state\n",
    "    cap_x, cap_y = capacities\n",
    "    successors = []\n",
    "    \n",
    "    successors.append((cap_x, y))\n",
    "    \n",
    "\n",
    "    successors.append((x, cap_y))\n",
    "    \n",
    "    successors.append((0, y))\n",
    "    \n",
    "\n",
    "    successors.append((x, 0))\n",
    "    \n",
    "\n",
    "    pour_x_to_y = min(x, cap_y - y)\n",
    "    successors.append((x - pour_x_to_y, y + pour_x_to_y))\n",
    "    \n",
    "\n",
    "    pour_y_to_x = min(y, cap_x - x)\n",
    "    successors.append((x + pour_y_to_x, y - pour_y_to_x))\n",
    "    \n",
    "    return [s for s in successors if is_valid(s, capacities)]\n",
    "\n",
    "def dfs_water_jug(capacities, target):\n",
    "    stack = [(0, 0)] \n",
    "    visited = set()\n",
    "    path = []\n",
    "    \n",
    "    while stack:\n",
    "        state = stack.pop()\n",
    "        \n",
    "        if state in visited:\n",
    "            continue\n",
    "        \n",
    "        visited.add(state)\n",
    "        path.append(state)\n",
    "        \n",
    "   \n",
    "        if state[0] == target or state[1] == target:\n",
    "            print(\"Solution Path:\", path)\n",
    "            return path\n",
    "        \n",
    "        for successor in get_successors(state, capacities):\n",
    "            stack.append(successor)\n",
    "    \n",
    "    print(\"No solution found.\")\n",
    "    return None\n",
    "\n",
    "\n",
    "jug_x_capacity = 4\n",
    "jug_y_capacity = 3\n",
    "target_amount = 2\n",
    "dfs_water_jug((jug_x_capacity, jug_y_capacity), target_amount)\n"
   ]
  }
 ],
 "metadata": {
  "kernelspec": {
   "display_name": "Python 3",
   "language": "python",
   "name": "python3"
  },
  "language_info": {
   "codemirror_mode": {
    "name": "ipython",
    "version": 3
   },
   "file_extension": ".py",
   "mimetype": "text/x-python",
   "name": "python",
   "nbconvert_exporter": "python",
   "pygments_lexer": "ipython3",
   "version": "3.12.0"
  }
 },
 "nbformat": 4,
 "nbformat_minor": 2
}
